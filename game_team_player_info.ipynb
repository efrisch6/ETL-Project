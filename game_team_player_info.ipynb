{
 "cells": [
  {
   "cell_type": "code",
   "execution_count": 1,
   "metadata": {},
   "outputs": [],
   "source": [
    "import pandas as pd"
   ]
  },
  {
   "cell_type": "markdown",
   "metadata": {},
   "source": [
    "## Game Info"
   ]
  },
  {
   "cell_type": "code",
   "execution_count": 2,
   "metadata": {},
   "outputs": [],
   "source": [
    "filepath1 = \"Resources/game.csv\"\n",
    "game_df = pd.read_csv(filepath1)"
   ]
  },
  {
   "cell_type": "code",
   "execution_count": 3,
   "metadata": {},
   "outputs": [],
   "source": [
    "game_df = game_df[[\"game_id\", \"season\", \"type\", \"away_team_id\", \"home_team_id\", \"outcome\"]]"
   ]
  },
  {
   "cell_type": "code",
   "execution_count": 4,
   "metadata": {},
   "outputs": [],
   "source": [
    "game_df = game_df.loc[game_df[\"type\"] == \"R\"]"
   ]
  },
  {
   "cell_type": "code",
   "execution_count": 5,
   "metadata": {},
   "outputs": [],
   "source": [
    "game_df = game_df.loc[game_df[\"season\"] == 20172018]"
   ]
  },
  {
   "cell_type": "code",
   "execution_count": 6,
   "metadata": {},
   "outputs": [
    {
     "data": {
      "text/html": [
       "<div>\n",
       "<style scoped>\n",
       "    .dataframe tbody tr th:only-of-type {\n",
       "        vertical-align: middle;\n",
       "    }\n",
       "\n",
       "    .dataframe tbody tr th {\n",
       "        vertical-align: top;\n",
       "    }\n",
       "\n",
       "    .dataframe thead th {\n",
       "        text-align: right;\n",
       "    }\n",
       "</style>\n",
       "<table border=\"1\" class=\"dataframe\">\n",
       "  <thead>\n",
       "    <tr style=\"text-align: right;\">\n",
       "      <th></th>\n",
       "      <th>game_id</th>\n",
       "      <th>season</th>\n",
       "      <th>type</th>\n",
       "      <th>away_team_id</th>\n",
       "      <th>home_team_id</th>\n",
       "      <th>outcome</th>\n",
       "    </tr>\n",
       "  </thead>\n",
       "  <tbody>\n",
       "    <tr>\n",
       "      <td>620</td>\n",
       "      <td>2017020812</td>\n",
       "      <td>20172018</td>\n",
       "      <td>R</td>\n",
       "      <td>24</td>\n",
       "      <td>7</td>\n",
       "      <td>away win OT</td>\n",
       "    </tr>\n",
       "    <tr>\n",
       "      <td>623</td>\n",
       "      <td>2017020586</td>\n",
       "      <td>20172018</td>\n",
       "      <td>R</td>\n",
       "      <td>20</td>\n",
       "      <td>24</td>\n",
       "      <td>home win REG</td>\n",
       "    </tr>\n",
       "    <tr>\n",
       "      <td>626</td>\n",
       "      <td>2017020240</td>\n",
       "      <td>20172018</td>\n",
       "      <td>R</td>\n",
       "      <td>23</td>\n",
       "      <td>24</td>\n",
       "      <td>home win REG</td>\n",
       "    </tr>\n",
       "    <tr>\n",
       "      <td>627</td>\n",
       "      <td>2017020624</td>\n",
       "      <td>20172018</td>\n",
       "      <td>R</td>\n",
       "      <td>29</td>\n",
       "      <td>21</td>\n",
       "      <td>home win REG</td>\n",
       "    </tr>\n",
       "    <tr>\n",
       "      <td>629</td>\n",
       "      <td>2017020221</td>\n",
       "      <td>20172018</td>\n",
       "      <td>R</td>\n",
       "      <td>52</td>\n",
       "      <td>25</td>\n",
       "      <td>away win REG</td>\n",
       "    </tr>\n",
       "    <tr>\n",
       "      <td>...</td>\n",
       "      <td>...</td>\n",
       "      <td>...</td>\n",
       "      <td>...</td>\n",
       "      <td>...</td>\n",
       "      <td>...</td>\n",
       "      <td>...</td>\n",
       "    </tr>\n",
       "    <tr>\n",
       "      <td>7426</td>\n",
       "      <td>2017020166</td>\n",
       "      <td>20172018</td>\n",
       "      <td>R</td>\n",
       "      <td>15</td>\n",
       "      <td>22</td>\n",
       "      <td>away win REG</td>\n",
       "    </tr>\n",
       "    <tr>\n",
       "      <td>7435</td>\n",
       "      <td>2017020830</td>\n",
       "      <td>20172018</td>\n",
       "      <td>R</td>\n",
       "      <td>23</td>\n",
       "      <td>14</td>\n",
       "      <td>home win REG</td>\n",
       "    </tr>\n",
       "    <tr>\n",
       "      <td>7436</td>\n",
       "      <td>2017020227</td>\n",
       "      <td>20172018</td>\n",
       "      <td>R</td>\n",
       "      <td>13</td>\n",
       "      <td>12</td>\n",
       "      <td>home win REG</td>\n",
       "    </tr>\n",
       "    <tr>\n",
       "      <td>7438</td>\n",
       "      <td>2017020704</td>\n",
       "      <td>20172018</td>\n",
       "      <td>R</td>\n",
       "      <td>5</td>\n",
       "      <td>26</td>\n",
       "      <td>away win REG</td>\n",
       "    </tr>\n",
       "    <tr>\n",
       "      <td>7439</td>\n",
       "      <td>2017020726</td>\n",
       "      <td>20172018</td>\n",
       "      <td>R</td>\n",
       "      <td>21</td>\n",
       "      <td>10</td>\n",
       "      <td>away win REG</td>\n",
       "    </tr>\n",
       "  </tbody>\n",
       "</table>\n",
       "<p>1271 rows × 6 columns</p>\n",
       "</div>"
      ],
      "text/plain": [
       "         game_id    season type  away_team_id  home_team_id       outcome\n",
       "620   2017020812  20172018    R            24             7   away win OT\n",
       "623   2017020586  20172018    R            20            24  home win REG\n",
       "626   2017020240  20172018    R            23            24  home win REG\n",
       "627   2017020624  20172018    R            29            21  home win REG\n",
       "629   2017020221  20172018    R            52            25  away win REG\n",
       "...          ...       ...  ...           ...           ...           ...\n",
       "7426  2017020166  20172018    R            15            22  away win REG\n",
       "7435  2017020830  20172018    R            23            14  home win REG\n",
       "7436  2017020227  20172018    R            13            12  home win REG\n",
       "7438  2017020704  20172018    R             5            26  away win REG\n",
       "7439  2017020726  20172018    R            21            10  away win REG\n",
       "\n",
       "[1271 rows x 6 columns]"
      ]
     },
     "execution_count": 6,
     "metadata": {},
     "output_type": "execute_result"
    }
   ],
   "source": [
    "game_df"
   ]
  },
  {
   "cell_type": "code",
   "execution_count": 7,
   "metadata": {},
   "outputs": [],
   "source": [
    "game_df.to_csv(\"Output/game_info_df.csv\", index=False, header=True)"
   ]
  },
  {
   "cell_type": "markdown",
   "metadata": {},
   "source": [
    "## Player Info"
   ]
  },
  {
   "cell_type": "code",
   "execution_count": null,
   "metadata": {},
   "outputs": [],
   "source": [
    "filepath2 = \"Resources/player_info.csv\"\n",
    "player_info_df = pd.read_csv(filepath2, sep=\"|\")"
   ]
  },
  {
   "cell_type": "code",
   "execution_count": null,
   "metadata": {},
   "outputs": [],
   "source": [
    "player_info_df = player_info_df.assign(Name = player_info_df.firstName.astype(str) + \" \" +\n",
    "                                                       player_info_df.lastName.astype(str))"
   ]
  },
  {
   "cell_type": "code",
   "execution_count": null,
   "metadata": {},
   "outputs": [],
   "source": [
    "player_info_df = player_info_df[[\"player_id\", \"Name\", \"primaryPosition\"]]"
   ]
  },
  {
   "cell_type": "code",
   "execution_count": null,
   "metadata": {},
   "outputs": [],
   "source": [
    "player_info_df.to_csv(\"Output/player_info_df.csv\", index=False, header=True, sep=\",\")"
   ]
  },
  {
   "cell_type": "markdown",
   "metadata": {},
   "source": [
    "## Team Info"
   ]
  },
  {
   "cell_type": "code",
   "execution_count": null,
   "metadata": {},
   "outputs": [],
   "source": [
    "filepath3 = \"Resources/team_info.csv\"\n",
    "team_info_df = pd.read_csv(filepath3)"
   ]
  },
  {
   "cell_type": "code",
   "execution_count": null,
   "metadata": {},
   "outputs": [],
   "source": [
    "team_info_df = team_info_df.assign(Team = team_info_df.shortName.astype(str) + \" \" +\n",
    "                                                       team_info_df.teamName.astype(str))"
   ]
  },
  {
   "cell_type": "code",
   "execution_count": null,
   "metadata": {},
   "outputs": [],
   "source": [
    "team_info_df = team_info_df[[\"team_id\", \"Team\"]]"
   ]
  },
  {
   "cell_type": "code",
   "execution_count": null,
   "metadata": {},
   "outputs": [],
   "source": [
    "team_info_df = team_info_df.drop([18, 32])"
   ]
  },
  {
   "cell_type": "code",
   "execution_count": null,
   "metadata": {},
   "outputs": [],
   "source": [
    "team_info_df[\"Team\"] = team_info_df[\"Team\"].replace({\"NY Rangers Rangers\": \"New York Rangers\"\n",
    "                                                   , \"NY Islanders Islanders\": \"New York Islanders\"})"
   ]
  },
  {
   "cell_type": "code",
   "execution_count": null,
   "metadata": {},
   "outputs": [],
   "source": [
    "team_info_df.to_csv(\"Output/team_info_df.csv\", index=False, header=True)"
   ]
  }
 ],
 "metadata": {
  "kernelspec": {
   "display_name": "Python [conda env:PythonData] *",
   "language": "python",
   "name": "conda-env-PythonData-py"
  },
  "language_info": {
   "codemirror_mode": {
    "name": "ipython",
    "version": 3
   },
   "file_extension": ".py",
   "mimetype": "text/x-python",
   "name": "python",
   "nbconvert_exporter": "python",
   "pygments_lexer": "ipython3",
   "version": "3.6.9"
  }
 },
 "nbformat": 4,
 "nbformat_minor": 2
}
