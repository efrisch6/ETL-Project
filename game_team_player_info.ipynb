{
 "cells": [
  {
   "cell_type": "code",
   "execution_count": 1,
   "metadata": {},
   "outputs": [],
   "source": [
    "import pandas as pd\n",
    "from sqlalchemy import create_engine\n",
    "import getpass"
   ]
  },
  {
   "cell_type": "code",
   "execution_count": 2,
   "metadata": {},
   "outputs": [
    {
     "name": "stdout",
     "output_type": "stream",
     "text": [
      "Password: ········\n"
     ]
    }
   ],
   "source": [
    "p = getpass.getpass(prompt=\"Password: \")\n",
    "rds_connection_string = f\"postgres:{p}@localhost:5432/Hockey_db\"\n",
    "engine = create_engine(f'postgresql://{rds_connection_string}')"
   ]
  },
  {
   "cell_type": "markdown",
   "metadata": {},
   "source": [
    "## Game Info"
   ]
  },
  {
   "cell_type": "code",
   "execution_count": 3,
   "metadata": {},
   "outputs": [],
   "source": [
    "filepath1 = \"Resources/game.csv\"\n",
    "game_df = pd.read_csv(filepath1)"
   ]
  },
  {
   "cell_type": "code",
   "execution_count": 4,
   "metadata": {},
   "outputs": [],
   "source": [
    "game_df = game_df[[\"game_id\", \"season\", \"type\", \"away_team_id\", \"home_team_id\", \"outcome\"]]"
   ]
  },
  {
   "cell_type": "code",
   "execution_count": 5,
   "metadata": {},
   "outputs": [],
   "source": [
    "game_df = game_df.loc[game_df[\"type\"] == \"R\"]"
   ]
  },
  {
   "cell_type": "code",
   "execution_count": 6,
   "metadata": {},
   "outputs": [],
   "source": [
    "game_df = game_df.loc[game_df[\"season\"] == 20172018]"
   ]
  },
  {
   "cell_type": "code",
   "execution_count": 7,
   "metadata": {},
   "outputs": [],
   "source": [
    "game_df.to_csv(\"Output/game_info_df.csv\", index=False, header=True)"
   ]
  },
  {
   "cell_type": "code",
   "execution_count": 8,
   "metadata": {},
   "outputs": [],
   "source": [
    "game_df.to_sql('games', con=engine, if_exists=\"append\", index=False)"
   ]
  },
  {
   "cell_type": "markdown",
   "metadata": {},
   "source": [
    "## Player Info"
   ]
  },
  {
   "cell_type": "code",
   "execution_count": 9,
   "metadata": {},
   "outputs": [],
   "source": [
    "filepath2 = \"Resources/player_info.csv\"\n",
    "player_info_df = pd.read_csv(filepath2, sep=\"|\")"
   ]
  },
  {
   "cell_type": "code",
   "execution_count": 10,
   "metadata": {},
   "outputs": [],
   "source": [
    "player_info_df = player_info_df.assign(name = player_info_df.firstName.astype(str) + \" \" +\n",
    "                                                       player_info_df.lastName.astype(str))"
   ]
  },
  {
   "cell_type": "code",
   "execution_count": 11,
   "metadata": {},
   "outputs": [],
   "source": [
    "player_info_df = player_info_df[[\"player_id\", \"name\", \"primaryPosition\"]]"
   ]
  },
  {
   "cell_type": "code",
   "execution_count": 12,
   "metadata": {},
   "outputs": [],
   "source": [
    "player_info_df = player_info_df.rename(columns={\"primaryPosition\":\"primary_position\"})"
   ]
  },
  {
   "cell_type": "code",
   "execution_count": 13,
   "metadata": {},
   "outputs": [],
   "source": [
    "player_info_df.to_csv(\"Output/player_info_df.csv\", index=False, header=True, sep=\",\")"
   ]
  },
  {
   "cell_type": "code",
   "execution_count": 14,
   "metadata": {},
   "outputs": [],
   "source": [
    "player_info_df.to_sql('players', con=engine, if_exists=\"append\", index=False)"
   ]
  },
  {
   "cell_type": "markdown",
   "metadata": {},
   "source": [
    "## Team Info"
   ]
  },
  {
   "cell_type": "code",
   "execution_count": 15,
   "metadata": {},
   "outputs": [],
   "source": [
    "filepath3 = \"Resources/team_info.csv\"\n",
    "team_info_df = pd.read_csv(filepath3)"
   ]
  },
  {
   "cell_type": "code",
   "execution_count": 16,
   "metadata": {},
   "outputs": [],
   "source": [
    "team_info_df = team_info_df.assign(team = team_info_df.shortName.astype(str) + \" \" +\n",
    "                                                       team_info_df.teamName.astype(str))"
   ]
  },
  {
   "cell_type": "code",
   "execution_count": 17,
   "metadata": {},
   "outputs": [],
   "source": [
    "team_info_df = team_info_df[[\"team_id\", \"team\"]]"
   ]
  },
  {
   "cell_type": "code",
   "execution_count": 18,
   "metadata": {},
   "outputs": [],
   "source": [
    "team_info_df = team_info_df.drop([18, 32])"
   ]
  },
  {
   "cell_type": "code",
   "execution_count": 19,
   "metadata": {},
   "outputs": [],
   "source": [
    "team_info_df[\"team\"] = team_info_df[\"team\"].replace({\"NY Rangers Rangers\": \"New York Rangers\"\n",
    "                                                   , \"NY Islanders Islanders\": \"New York Islanders\"})"
   ]
  },
  {
   "cell_type": "code",
   "execution_count": 20,
   "metadata": {},
   "outputs": [],
   "source": [
    "team_info_df.to_csv(\"Output/team_info_df.csv\", index=False, header=True)"
   ]
  },
  {
   "cell_type": "code",
   "execution_count": 21,
   "metadata": {},
   "outputs": [],
   "source": [
    "team_info_df.to_sql('teams', con=engine, if_exists=\"append\", index=False)"
   ]
  },
  {
   "cell_type": "markdown",
   "metadata": {},
   "source": [
    "## Skater Stats"
   ]
  },
  {
   "cell_type": "code",
   "execution_count": 22,
   "metadata": {},
   "outputs": [],
   "source": [
    "filepath4 = \"Resources/game_skater_stats.csv\"\n",
    "skater_info_df = pd.read_csv(filepath4, sep=\"|\")"
   ]
  },
  {
   "cell_type": "code",
   "execution_count": 23,
   "metadata": {},
   "outputs": [],
   "source": [
    "season_skater_df = skater_info_df.loc[skater_info_df.game_id.isin(game_df.game_id)]"
   ]
  },
  {
   "cell_type": "code",
   "execution_count": 24,
   "metadata": {},
   "outputs": [],
   "source": [
    "season_skater_df = season_skater_df.reset_index()[['game_id','player_id','team_id','penaltyMinutes']]"
   ]
  },
  {
   "cell_type": "code",
   "execution_count": 25,
   "metadata": {},
   "outputs": [],
   "source": [
    "season_skater_df = season_skater_df.rename(columns={\"penaltyMinutes\":\"penalty_minutes\"})"
   ]
  },
  {
   "cell_type": "code",
   "execution_count": 26,
   "metadata": {},
   "outputs": [],
   "source": [
    "season_skater_df.to_csv(\"Output/skater_info_df.csv\", index=False, header=True, sep=\",\")"
   ]
  },
  {
   "cell_type": "code",
   "execution_count": 27,
   "metadata": {},
   "outputs": [],
   "source": [
    "season_skater_df.to_sql(\"skater_stats\", con=engine, if_exists=\"append\", index=False)"
   ]
  },
  {
   "cell_type": "markdown",
   "metadata": {},
   "source": [
    "## Merge game_info with team_info"
   ]
  },
  {
   "cell_type": "code",
   "execution_count": 28,
   "metadata": {},
   "outputs": [],
   "source": [
    "new_game_df = pd.merge(game_df, team_info_df, left_on=\"away_team_id\", right_on=\"team_id\", how=\"left\")"
   ]
  },
  {
   "cell_type": "code",
   "execution_count": 29,
   "metadata": {},
   "outputs": [],
   "source": [
    "new_game_df = pd.merge(new_game_df, team_info_df, left_on=\"home_team_id\", right_on=\"team_id\", how=\"left\")"
   ]
  },
  {
   "cell_type": "code",
   "execution_count": 30,
   "metadata": {},
   "outputs": [],
   "source": [
    "new_game_df = new_game_df.rename(columns={\"team_x\": \"away_team\", \"team_y\": \"home_team\"})"
   ]
  },
  {
   "cell_type": "code",
   "execution_count": 31,
   "metadata": {},
   "outputs": [],
   "source": [
    "new_game_df = new_game_df[[\"game_id\", \"season\", \"home_team_id\", \"home_team\", \"away_team_id\" , \"away_team\", \"outcome\"]]"
   ]
  },
  {
   "cell_type": "markdown",
   "metadata": {},
   "source": [
    "## Analysis - PIM (Penalty in Minutes) by Position per Game"
   ]
  },
  {
   "cell_type": "code",
   "execution_count": 32,
   "metadata": {},
   "outputs": [],
   "source": [
    "# Combine Skater states with player info\n",
    "player_stats_df = season_skater_df.merge(player_info_df,on=\"player_id\",how=\"inner\")\n",
    "\n",
    "# Combine LW (left Wing) and RW (Right Wing) into W (Wing)\n",
    "player_stats_df['primary_position'] = player_stats_df['primary_position'].replace({\"LW\":\"W\",\"RW\":\"W\"})\n",
    "\n",
    "# Aggregate total PIM by position for each game\n",
    "game_position_pim = player_stats_df[['game_id','primary_position','penalty_minutes']].groupby(\n",
    "    ['game_id','primary_position',]).sum()\n",
    "\n",
    "# Reset Index\n",
    "game_position_pim.reset_index(inplace=True)\n",
    "\n",
    "# Average PIM by Position per game\n",
    "avg_position_pim = game_position_pim[['primary_position','penalty_minutes']].groupby(\n",
    "    ['primary_position']).mean().rename(columns={'penalty_minutes':'avg_pim_by_position/game'})\n",
    "\n",
    "# Aggregate total PIM by position for each team and game\n",
    "team_game_position_pim = player_stats_df[['game_id','team_id','primary_position','penalty_minutes']].groupby(\n",
    "    ['game_id','team_id','primary_position',]).sum()\n",
    "\n",
    "# Reset Index\n",
    "team_game_position_pim.reset_index(inplace=True)\n",
    "\n",
    "# Calculate average PIM by Position\n",
    "game_position_pim = team_game_position_pim.merge(avg_position_pim, on=\"primary_position\")"
   ]
  },
  {
   "cell_type": "code",
   "execution_count": 33,
   "metadata": {},
   "outputs": [],
   "source": [
    "# Combine PIM by Position per game with Game data by Home Team\n",
    "game_results = new_game_df[['game_id','home_team_id','home_team','away_team_id','away_team','outcome']].merge(\n",
    "    game_position_pim.rename(columns={'primary_position':'home_team_position','penalty_minutes':'home_team_pim'}),\n",
    "    left_on=['game_id','home_team_id'], right_on=['game_id','team_id'])\n",
    "\n",
    "# Combine PIM by Position per game with Game data by Away Team \n",
    "game_results = game_results.merge(\n",
    "    game_position_pim.rename(columns={'primary_position':'away_team_position','penalty_minutes':'away_team_pim'}),\n",
    "    left_on=['game_id','away_team_id','home_team_position'], right_on=['game_id','team_id','away_team_position'])\n",
    "\n",
    "# Clean up results\n",
    "game_results = game_results[['game_id','home_team_position','home_team','home_team_pim',\n",
    "              'away_team','away_team_pim','outcome',\n",
    "              'avg_pim_by_position/game_x']].rename(columns={'avg_pim_by_position/game_x':'avg_pim_by_position/game',\n",
    "                                                           'home_team_position':'position' })"
   ]
  },
  {
   "cell_type": "code",
   "execution_count": 34,
   "metadata": {},
   "outputs": [
    {
     "data": {
      "text/html": [
       "<div>\n",
       "<style scoped>\n",
       "    .dataframe tbody tr th:only-of-type {\n",
       "        vertical-align: middle;\n",
       "    }\n",
       "\n",
       "    .dataframe tbody tr th {\n",
       "        vertical-align: top;\n",
       "    }\n",
       "\n",
       "    .dataframe thead th {\n",
       "        text-align: right;\n",
       "    }\n",
       "</style>\n",
       "<table border=\"1\" class=\"dataframe\">\n",
       "  <thead>\n",
       "    <tr style=\"text-align: right;\">\n",
       "      <th></th>\n",
       "      <th>game_id</th>\n",
       "      <th>position</th>\n",
       "      <th>home_team</th>\n",
       "      <th>home_team_pim</th>\n",
       "      <th>away_team</th>\n",
       "      <th>away_team_pim</th>\n",
       "      <th>outcome</th>\n",
       "      <th>avg_pim_by_position/game</th>\n",
       "    </tr>\n",
       "  </thead>\n",
       "  <tbody>\n",
       "    <tr>\n",
       "      <th>0</th>\n",
       "      <td>2017020812</td>\n",
       "      <td>C</td>\n",
       "      <td>Buffalo Sabres</td>\n",
       "      <td>0</td>\n",
       "      <td>Anaheim Ducks</td>\n",
       "      <td>2</td>\n",
       "      <td>away win OT</td>\n",
       "      <td>4.479150</td>\n",
       "    </tr>\n",
       "    <tr>\n",
       "      <th>1</th>\n",
       "      <td>2017020812</td>\n",
       "      <td>D</td>\n",
       "      <td>Buffalo Sabres</td>\n",
       "      <td>4</td>\n",
       "      <td>Anaheim Ducks</td>\n",
       "      <td>2</td>\n",
       "      <td>away win OT</td>\n",
       "      <td>6.016522</td>\n",
       "    </tr>\n",
       "    <tr>\n",
       "      <th>2</th>\n",
       "      <td>2017020812</td>\n",
       "      <td>W</td>\n",
       "      <td>Buffalo Sabres</td>\n",
       "      <td>4</td>\n",
       "      <td>Anaheim Ducks</td>\n",
       "      <td>2</td>\n",
       "      <td>away win OT</td>\n",
       "      <td>6.182533</td>\n",
       "    </tr>\n",
       "    <tr>\n",
       "      <th>3</th>\n",
       "      <td>2017020586</td>\n",
       "      <td>C</td>\n",
       "      <td>Anaheim Ducks</td>\n",
       "      <td>7</td>\n",
       "      <td>Calgary Flames</td>\n",
       "      <td>8</td>\n",
       "      <td>home win REG</td>\n",
       "      <td>4.479150</td>\n",
       "    </tr>\n",
       "    <tr>\n",
       "      <th>4</th>\n",
       "      <td>2017020586</td>\n",
       "      <td>D</td>\n",
       "      <td>Anaheim Ducks</td>\n",
       "      <td>6</td>\n",
       "      <td>Calgary Flames</td>\n",
       "      <td>0</td>\n",
       "      <td>home win REG</td>\n",
       "      <td>6.016522</td>\n",
       "    </tr>\n",
       "    <tr>\n",
       "      <th>...</th>\n",
       "      <td>...</td>\n",
       "      <td>...</td>\n",
       "      <td>...</td>\n",
       "      <td>...</td>\n",
       "      <td>...</td>\n",
       "      <td>...</td>\n",
       "      <td>...</td>\n",
       "      <td>...</td>\n",
       "    </tr>\n",
       "    <tr>\n",
       "      <th>3808</th>\n",
       "      <td>2017020704</td>\n",
       "      <td>D</td>\n",
       "      <td>Los Angeles Kings</td>\n",
       "      <td>2</td>\n",
       "      <td>Pittsburgh Penguins</td>\n",
       "      <td>4</td>\n",
       "      <td>away win REG</td>\n",
       "      <td>6.016522</td>\n",
       "    </tr>\n",
       "    <tr>\n",
       "      <th>3809</th>\n",
       "      <td>2017020704</td>\n",
       "      <td>W</td>\n",
       "      <td>Los Angeles Kings</td>\n",
       "      <td>19</td>\n",
       "      <td>Pittsburgh Penguins</td>\n",
       "      <td>0</td>\n",
       "      <td>away win REG</td>\n",
       "      <td>6.182533</td>\n",
       "    </tr>\n",
       "    <tr>\n",
       "      <th>3810</th>\n",
       "      <td>2017020726</td>\n",
       "      <td>C</td>\n",
       "      <td>Toronto Maple Leafs</td>\n",
       "      <td>0</td>\n",
       "      <td>Colorado Avalanche</td>\n",
       "      <td>2</td>\n",
       "      <td>away win REG</td>\n",
       "      <td>4.479150</td>\n",
       "    </tr>\n",
       "    <tr>\n",
       "      <th>3811</th>\n",
       "      <td>2017020726</td>\n",
       "      <td>D</td>\n",
       "      <td>Toronto Maple Leafs</td>\n",
       "      <td>0</td>\n",
       "      <td>Colorado Avalanche</td>\n",
       "      <td>2</td>\n",
       "      <td>away win REG</td>\n",
       "      <td>6.016522</td>\n",
       "    </tr>\n",
       "    <tr>\n",
       "      <th>3812</th>\n",
       "      <td>2017020726</td>\n",
       "      <td>W</td>\n",
       "      <td>Toronto Maple Leafs</td>\n",
       "      <td>0</td>\n",
       "      <td>Colorado Avalanche</td>\n",
       "      <td>2</td>\n",
       "      <td>away win REG</td>\n",
       "      <td>6.182533</td>\n",
       "    </tr>\n",
       "  </tbody>\n",
       "</table>\n",
       "<p>3813 rows × 8 columns</p>\n",
       "</div>"
      ],
      "text/plain": [
       "         game_id position            home_team  home_team_pim  \\\n",
       "0     2017020812        C       Buffalo Sabres              0   \n",
       "1     2017020812        D       Buffalo Sabres              4   \n",
       "2     2017020812        W       Buffalo Sabres              4   \n",
       "3     2017020586        C        Anaheim Ducks              7   \n",
       "4     2017020586        D        Anaheim Ducks              6   \n",
       "...          ...      ...                  ...            ...   \n",
       "3808  2017020704        D    Los Angeles Kings              2   \n",
       "3809  2017020704        W    Los Angeles Kings             19   \n",
       "3810  2017020726        C  Toronto Maple Leafs              0   \n",
       "3811  2017020726        D  Toronto Maple Leafs              0   \n",
       "3812  2017020726        W  Toronto Maple Leafs              0   \n",
       "\n",
       "                away_team  away_team_pim       outcome  \\\n",
       "0           Anaheim Ducks              2   away win OT   \n",
       "1           Anaheim Ducks              2   away win OT   \n",
       "2           Anaheim Ducks              2   away win OT   \n",
       "3          Calgary Flames              8  home win REG   \n",
       "4          Calgary Flames              0  home win REG   \n",
       "...                   ...            ...           ...   \n",
       "3808  Pittsburgh Penguins              4  away win REG   \n",
       "3809  Pittsburgh Penguins              0  away win REG   \n",
       "3810   Colorado Avalanche              2  away win REG   \n",
       "3811   Colorado Avalanche              2  away win REG   \n",
       "3812   Colorado Avalanche              2  away win REG   \n",
       "\n",
       "      avg_pim_by_position/game  \n",
       "0                     4.479150  \n",
       "1                     6.016522  \n",
       "2                     6.182533  \n",
       "3                     4.479150  \n",
       "4                     6.016522  \n",
       "...                        ...  \n",
       "3808                  6.016522  \n",
       "3809                  6.182533  \n",
       "3810                  4.479150  \n",
       "3811                  6.016522  \n",
       "3812                  6.182533  \n",
       "\n",
       "[3813 rows x 8 columns]"
      ]
     },
     "execution_count": 34,
     "metadata": {},
     "output_type": "execute_result"
    }
   ],
   "source": [
    "game_results"
   ]
  },
  {
   "cell_type": "code",
   "execution_count": 35,
   "metadata": {},
   "outputs": [],
   "source": [
    "game_results.to_csv(\"Output/game_results_df.csv\", index=False, header=True, sep=\",\")"
   ]
  },
  {
   "cell_type": "code",
   "execution_count": 36,
   "metadata": {},
   "outputs": [],
   "source": [
    "game_results.rename(columns={\"avg_pim_by_position/game\":\"avg_pim_by_position_game\"}).to_sql(\n",
    "    \"game_results\", con=engine, if_exists=\"append\", index=False)"
   ]
  },
  {
   "cell_type": "code",
   "execution_count": null,
   "metadata": {},
   "outputs": [],
   "source": []
  }
 ],
 "metadata": {
  "kernelspec": {
   "display_name": "Python [conda env:.conda-PythonData] *",
   "language": "python",
   "name": "conda-env-.conda-PythonData-py"
  },
  "language_info": {
   "codemirror_mode": {
    "name": "ipython",
    "version": 3
   },
   "file_extension": ".py",
   "mimetype": "text/x-python",
   "name": "python",
   "nbconvert_exporter": "python",
   "pygments_lexer": "ipython3",
   "version": "3.6.9"
  }
 },
 "nbformat": 4,
 "nbformat_minor": 2
}
